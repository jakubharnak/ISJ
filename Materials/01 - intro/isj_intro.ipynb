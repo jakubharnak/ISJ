{
 "cells": [
  {
   "cell_type": "markdown",
   "metadata": {
    "slideshow": {
     "slide_type": "slide"
    }
   },
   "source": [
    "# ISJ - introduction"
   ]
  },
  {
   "cell_type": "markdown",
   "metadata": {
    "slideshow": {
     "slide_type": "slide"
    }
   },
   "source": [
    "## Today's lecture\n",
    "* Course organization, motivation, technicalities\n",
    "* Classification of programming languages\n",
    "* Features an representatives of high-level dynamic languages\n",
    "* Python teaser\n",
    "* Performance, popularity"
   ]
  },
  {
   "cell_type": "markdown",
   "metadata": {
    "slideshow": {
     "slide_type": "slide"
    }
   },
   "source": [
    "## General notes\n",
    "Lectures in Czech, slides in __English__\n",
    "\n",
    "Today's lecture __differs__ from all following ones:\n",
    "- No student activity during the lecture expected\n",
    "- No need for Python/Jupyter Notebook installation\n",
    "- No advantage in following the lecture on own notebook\n",
    "- No references (to videos) to study (watch) at the end of previous lecture"
   ]
  },
  {
   "cell_type": "markdown",
   "metadata": {
    "slideshow": {
     "slide_type": "slide"
    }
   },
   "source": [
    "## Evaluation\n",
    "* 8 projects - up to 8x5=40 points\n",
    "* 8 minitasks - up to 8 __bonus__ points\n",
    "* Mid-term test - up to 9 points\n",
    "* Final exam - up to 51 points"
   ]
  },
  {
   "cell_type": "markdown",
   "metadata": {
    "slideshow": {
     "slide_type": "slide"
    }
   },
   "source": [
    "## Lectures\n",
    "2. Regular expressions and their support in scripting languages\n",
    "3. Simple scripting for OS Unix, automating system administration\n",
    "4. Names in Python, basic data structures and their implementation\n",
    "5. Dictionary (hash structure) and its implementation in Python\n",
    "6. Functions and their arguments, modules, exception handling\n",
    "7. Object-oriented programming  in scripting languages"
   ]
  },
  {
   "cell_type": "markdown",
   "metadata": {
    "slideshow": {
     "slide_type": "slide"
    }
   },
   "source": [
    "## Lectures\n",
    "8. Advanced concepts of object-oriented programming in Python, multiple inheritance and method resolution order\n",
    "9. Ruby basics through comparison with Python\n",
    "10. Function and class decorators\n",
    "11. Iteration protocol and iterables\n",
    "12. Generators and their use in functions\n",
    "13. Concurrency and parallelism"
   ]
  },
  {
   "cell_type": "markdown",
   "metadata": {
    "slideshow": {
     "slide_type": "slide"
    }
   },
   "source": [
    "## General notes\n",
    "\n",
    "- An ideal - the U.S. model: self-study and discussion at the lectures\n",
    "- Also: The course starts with very basic concepts but reaches advanced/master topics!!!\n",
    "- Unfortunately, there are only lectures, no seminars/tutorials/practices\n",
    "- One cannot learn programming/concepts by (just) reading/following lectures \n",
    "- Projects try to help you understand the topics\n",
    "- But you should do much more, plese invest your time to get more familiar with the ISJ concepts through \"learning by doing\""
   ]
  },
  {
   "cell_type": "markdown",
   "metadata": {
    "slideshow": {
     "slide_type": "slide"
    }
   },
   "source": [
    "## General notes\n",
    "\n",
    "- Programming in Python/C/any specific language should not be taught at the university\n",
    "- ISJ tries to provide a general view on advanced concepts (based on examples in Python)\n",
    "- Python is a great first programming language (but FIT starts with C 😞)\n",
    "- The course builds on your knowledge of system programming "
   ]
  },
  {
   "cell_type": "markdown",
   "metadata": {
    "slideshow": {
     "slide_type": "slide"
    }
   },
   "source": [
    "## General notes\n",
    "\n",
    "- ISJ is not  the \"Introduction to Python\" course \n",
    "- The course starts with very basic concepts but reaches advanced/master topics\n",
    "- Unfortunately, there are only lectures, no seminars/tutorials/practices\n",
    "- One cannot learn programming/concepts by (just) reading/following lectures \n",
    "- Projects try to help you understand the topics\n",
    "- But you should do much more, please invest your time to get more familiar with the ISJ concepts through \"learning by doing\""
   ]
  },
  {
   "cell_type": "markdown",
   "metadata": {
    "slideshow": {
     "slide_type": "slide"
    }
   },
   "source": [
    "## Controversial views\n",
    "\n",
    "Spousta lidí tento předmět kritizuje. Během roku nadávají, že je to jen kreditová farma a nic se zde nenaučili. Důvodem bude nejspíš fakt, že spousta lidí na přednášky vůbec nechodila a jen dělali projekty. Pak se není čemu se divit.\n",
    "Vtipný je fakt, jak spousta studentů během semestru remcala, že je to jen kreditovka, ale před zkouškou začali panikařit, že tento předmět nejde vůbec udělat.\n",
    "Za mě předmět byl kvalitní a spoustu jsem se toho na přednáškách naučil a považuji naučené dovednosti za velice užitečné."
   ]
  },
  {
   "cell_type": "markdown",
   "metadata": {
    "slideshow": {
     "slide_type": "slide"
    }
   },
   "source": [
    "## Controversial views\n",
    "\n",
    "Předmět byl zajímavý a mnoho mě toho naučil. Nicméně si myslím, že je vhodný pro studenty druhého ročníku, jelikož se hezky doplňuje s předměty IPP, ICP, ICS a IJA. Dovedu si představit, že kdybych si předmět zapsal už v prvním ročníku, byl by pro mě poměrně náročný."
   ]
  },
  {
   "cell_type": "markdown",
   "metadata": {
    "slideshow": {
     "slide_type": "slide"
    }
   },
   "source": [
    "## Controversial views\n",
    "\n",
    "- V předmětu jsem se velmi dobře seznámil s jazykem python. Přednášky byly kvalitní a učili dobré koncepty.\n",
    "- Pochválit musím půlsemestrální a semestrální zkoušky, zadání byla opravdu kvalitní a mohu říct, že mě je bavilo řešit.\n",
    "- Velmi oceňuji to, že bodové hodnocení 'přesahuje' maximum, takže lze doplnit ztráty do 49 bodů.\n",
    "Některá zadání byla celkem nejasná, ale hodnocení bylo jinak vstřícné."
   ]
  },
  {
   "cell_type": "markdown",
   "metadata": {
    "slideshow": {
     "slide_type": "slide"
    }
   },
   "source": [
    "## Controversial views\n",
    "\n",
    "Témy preberané na prednáškach boli veľmi zaujímavé. Projekty boli fajn, no ocenil by som nejaký väčší (možno tímový) projekt. Minitasky bol výborný koncept a prinútilo ma to pochopiť problematiku lepšie."
   ]
  },
  {
   "cell_type": "markdown",
   "metadata": {
    "slideshow": {
     "slide_type": "slide"
    }
   },
   "source": [
    "## Controversial views\n",
    "\n",
    "Podstatná část kurzu se věnuje základům jazyka Python, díky čemuž se pak pokročilá témata probírají pouze ve \"zrychleném režimu\". Předmět by měl být spíše doplňkem k IPP, kde se jazyk Python jen lehce představí (podobně jako jazyk C v IZP) a plnit úlohu podobnou předmětu IJC pro jazyk Python. \n",
    "\n",
    "Snaha doc. Smrže o dosažení jisté interaktivity se příliš nevydařila. Přednáška byla bohužel od 8. hodiny, takže většina lidí ještě nebyla dostatečně \"probuzena\" a schopna rozumně reagovat.\n",
    "\n",
    "Projekty mi přišly příliš jednoduché. Lepší než 8 jednoduchých, čistě \"školních\"  projektů typu \"doplň kód funkce/metody\" nebo \"napiš funkci/metodu/třídu\" by podle mě bylo méně  projektů zaměřených na praktičtější aplikaci Pythonu. "
   ]
  },
  {
   "cell_type": "markdown",
   "metadata": {
    "slideshow": {
     "slide_type": "slide"
    }
   },
   "source": [
    "## Controversial views\n",
    "\n",
    "- Předpokládal jsem, že si tímto předmětem zlepším svoje schopnosti programování v Pythonu. Ve skutečnosti se ale jednalo spíše o analýzu toho, jak Python funguje. To nemělo (až na výjimky) žádný pozitivní dopad na kvalitu kódu, který jsem byl schopen vytvořit."
   ]
  },
  {
   "cell_type": "markdown",
   "metadata": {
    "slideshow": {
     "slide_type": "slide"
    }
   },
   "source": [
    "## Controversial views\n",
    "\n",
    "- Nelíbilo se mi, že studijní materiály jsou v .ipynb.\n",
    "- Zkouška je (stejně jako u IZP) řešena formou programování na papír. Vhodnější by byl podobný přístup jako u testů ISU, tedy programování s využitím vlastního vývojového prostředí a pak následné odevzdání výsledného zdrojového kódu do systému. "
   ]
  },
  {
   "cell_type": "markdown",
   "metadata": {
    "slideshow": {
     "slide_type": "slide"
    }
   },
   "source": [
    "## Comments\n",
    "- ISJ is the only course on Python/scripting languages open to everybody (compare IZV).\n",
    "- It is difficult to cover all levels of programming/Python proficiency (1BIT - 3BIT) in one course.\n",
    "- It started with one or a few application-oriented and relatively complex project(s). However, beginners could not start before the second half of the semester."
   ]
  },
  {
   "cell_type": "markdown",
   "metadata": {
    "slideshow": {
     "slide_type": "slide"
    }
   },
   "source": [
    "## Questions for Course Evaluation\n",
    "\n",
    "- Should the course focus on advanced aspects only, i.e., skip the basics and pay more attention to the master level?\n",
    "- Would a more complex project motivate you to work continuously (every week for a short time)?\n",
    "- Could another form of the exam work (guarantee fair evaluations)?\n",
    "- What would make the lectures more interesting/less chaotic for you?\n",
    "- Would you rather skip information how specific structures and concepts are realized (in Python) and hear about other scripting languages (Ruby, Lua...) and/or more advanced concepts (async programming)?"
   ]
  },
  {
   "cell_type": "markdown",
   "metadata": {
    "slideshow": {
     "slide_type": "slide"
    }
   },
   "source": [
    "## Classification of programming languages\n",
    "* There are **various criteria**\n",
    "* Based on:\n",
    "  * http://codenugget.co/2015/03/05/declarative-vs-imperative-programming-web.html\n",
    "  * https://en.wikibooks.org/wiki/Introduction_to_Programming_Languages/Programming_Language_Paradigms\n",
    "  * https://www.quora.com/What-is-the-difference-between-a-compiler-and-an-interpreter\n"
   ]
  },
  {
   "cell_type": "markdown",
   "metadata": {
    "slideshow": {
     "slide_type": "slide"
    }
   },
   "source": [
    "## Imperative vs. declarative\n",
    "* **Imperative** programming is about telling your machine **how** to do something\n",
    "* **Declarative** programming is about telling your machine **what** you would like to happen in order to do something"
   ]
  },
  {
   "cell_type": "markdown",
   "metadata": {
    "slideshow": {
     "slide_type": "subslide"
    }
   },
   "source": [
    "## Imperative vs. declarative\n",
    "* **Imperative** languages specify **explicit manipulation** of the computer’s internal state; **procedural** languages specify an **explicit sequence of steps** to follow\n",
    "* **Declarative** languages are **functional** or **relational** \n",
    "  * relationships between variables in terms of **functions** or **inference rules**\n",
    "  * the language executor (interpreter or compiler) applies some fixed algorithm to these relations to produce a result"
   ]
  },
  {
   "cell_type": "markdown",
   "metadata": {
    "slideshow": {
     "slide_type": "slide"
    }
   },
   "source": [
    "## A more thorough classification of programming languages\n",
    "* Imperative\n",
    "  * Procedural\n",
    "  * Object-oriented\n",
    "  * Structural\n",
    "  * Modular\n",
    "* Declarative\n",
    "  * Functional\n",
    "  * Logic\n",
    "  * Query"
   ]
  },
  {
   "cell_type": "markdown",
   "metadata": {
    "slideshow": {
     "slide_type": "subslide"
    }
   },
   "source": [
    "$$s = \\sum_{x=1}^Nx^2 = 1^2 + 2^2 + ... + N^2$$"
   ]
  },
  {
   "cell_type": "markdown",
   "metadata": {
    "slideshow": {
     "slide_type": "subslide"
    }
   },
   "source": [
    "## Imperative code in Javascript"
   ]
  },
  {
   "cell_type": "code",
   "execution_count": null,
   "metadata": {
    "slideshow": {
     "slide_type": "fragment"
    }
   },
   "outputs": [],
   "source": [
    "# function sumOfSquares(nums) {\n",
    "  var i, sum = 0, squares = [];\n",
    "  for (i = 0; i < nums.length; i++) {\n",
    "    squares.push(nums[i]*nums[i]);\n",
    "  }\n",
    "\n",
    "  for (i = 0; i < squares.length; i++) {\n",
    "    sum += squares[i];\n",
    "  }\n",
    "\n",
    "  return sum;\n",
    "}\n",
    "\n",
    "console.log(sumOfSquares([1, 2, 3, 4, 5]));\n",
    "\n"
   ]
  },
  {
   "cell_type": "markdown",
   "metadata": {
    "slideshow": {
     "slide_type": "subslide"
    }
   },
   "source": [
    "## Declarative/functional code in Clojure"
   ]
  },
  {
   "cell_type": "code",
   "execution_count": null,
   "metadata": {
    "slideshow": {
     "slide_type": "fragment"
    }
   },
   "outputs": [],
   "source": [
    "(defn square-of [n]\n",
    "  (* n n))\n",
    "\n",
    "(defn sum-of-squares [nums]\n",
    "  (reduce + (map #(square-of %) nums)))\n",
    "\n",
    "\n",
    "(sum-of-squares '(1 2 3 4 5))\n",
    "\n"
   ]
  },
  {
   "cell_type": "markdown",
   "metadata": {
    "slideshow": {
     "slide_type": "subslide"
    }
   },
   "source": [
    "## Functional code in Javascript"
   ]
  },
  {
   "cell_type": "code",
   "execution_count": null,
   "metadata": {
    "slideshow": {
     "slide_type": "fragment"
    }
   },
   "outputs": [],
   "source": [
    "function sumOfSquares2(nums) {\n",
    "  return nums\n",
    "     (function(num) { return num * num; })\n",
    "    .reduce(function(start, num) { return start + num; }, 0)\n",
    "  ;\n",
    "}\n",
    "\n",
    "console.log(sumOfSquares([1, 2, 3, 4, 5]));\n",
    "\n"
   ]
  },
  {
   "cell_type": "markdown",
   "metadata": {
    "slideshow": {
     "slide_type": "subslide"
    }
   },
   "source": [
    "## Declarative code - SQL"
   ]
  },
  {
   "cell_type": "code",
   "execution_count": null,
   "metadata": {
    "collapsed": true,
    "slideshow": {
     "slide_type": "fragment"
    }
   },
   "outputs": [],
   "source": [
    "SELECT * \n",
    "FROM dogs\n",
    "INNER JOIN owners\n",
    "WHERE dogs.owner_id = owners.id"
   ]
  },
  {
   "cell_type": "markdown",
   "metadata": {
    "slideshow": {
     "slide_type": "subslide"
    }
   },
   "source": [
    "## Imperative code for the same"
   ]
  },
  {
   "cell_type": "code",
   "execution_count": null,
   "metadata": {
    "collapsed": true,
    "slideshow": {
     "slide_type": "fragment"
    }
   },
   "outputs": [],
   "source": [
    "//dogs = [{name: 'Fido', owner_id: 1}, {...}, ... ]\n",
    "//owners = [{id: 1, name: 'Bob'}, {...}, ...]\n",
    "\n",
    "var dogsWithOwners = []\n",
    "var dog, owner\n",
    "\n",
    "for(var di=0; di < dogs.length; di++) {\n",
    "  dog = dogs[di]\n",
    "\n",
    "  for(var oi=0; oi < owners.length; oi++) {\n",
    "    owner = owners[oi]\n",
    "    if (owner && dog.owner_id == owner.id) {\n",
    "      dogsWithOwners.push({\n",
    "        dog: dog,\n",
    "        owner: owner\n",
    "      })\n",
    "    }\n",
    "  }\n",
    "}"
   ]
  },
  {
   "cell_type": "markdown",
   "metadata": {
    "slideshow": {
     "slide_type": "subslide"
    }
   },
   "source": [
    "## Declarative code - Prolog"
   ]
  },
  {
   "cell_type": "code",
   "execution_count": null,
   "metadata": {
    "slideshow": {
     "slide_type": "fragment"
    }
   },
   "outputs": [],
   "source": [
    "    man(adam). \n",
    "    man(peter). \n",
    "    man(paul). \n",
    "      \n",
    "    woman(marry). \n",
    "    woman(eve). \n",
    "\n",
    "    parent(adam,peter). % means adam is parent of peter \n",
    "    parent(eve,peter). \n",
    "    parent(adam,paul). \n",
    "    parent(marry,paul).\n",
    "    "
   ]
  },
  {
   "cell_type": "code",
   "execution_count": null,
   "metadata": {
    "slideshow": {
     "slide_type": "subslide"
    }
   },
   "outputs": [],
   "source": [
    "    son(S,P):-man(S),parent(P,S). \n",
    "    daughter(D,P):-woman(D),parent(P,D). \n",
    "        \n",
    "    ?-son(X,adam). \n",
    "       \n",
    "    siblings(A,B):-parent(P,A),parent(P,B),A\\=B.\n",
    "      \n",
    "    uncle(U,N):-man(U),siblings(U,P),parent(P,N). \n",
    "     \n",
    "    grand_parent(G,N):-parent(G,X),parent(X,N). \n",
    "\n",
    "    descendent(D,A):-parent(A,D). \n",
    "    descendent(D,A):-parent(P,D),descendent(P,A). "
   ]
  },
  {
   "cell_type": "markdown",
   "metadata": {
    "slideshow": {
     "slide_type": "slide"
    }
   },
   "source": [
    "## Compiled vs. interpreted\n",
    " - Programming languages are **not** classified as **interpreted** or **compiled**\n",
    "- Their particular **implementations** are\n",
    "- People confuse **common implementation** methods with **necessary properties** of language implementations"
   ]
  },
  {
   "cell_type": "markdown",
   "metadata": {
    "slideshow": {
     "slide_type": "subslide"
    }
   },
   "source": [
    "## Examples\n",
    "- **C** is typically **compiled**, but C interpreters exist\n",
    "- **BASIC** was traditionally an **interpreted** language, but there are many BASIC compilers in use today\n",
    "\n",
    "- Some languages lend themselves better to interpretation than to compilation, and vice versa\n",
    "- But interpretation vs. compilation is **not considered a property of the language itself**"
   ]
  },
  {
   "cell_type": "markdown",
   "metadata": {
    "slideshow": {
     "slide_type": "subslide"
    }
   },
   "source": [
    "## Compiler\n",
    "(in a narrow sense)\n",
    "turns a **higher-level** program into a **native-binary** program\n",
    "\n",
    "A **native-binary program** is:\n",
    "- a bunch of instructions (cleverly called the **text** segment)\n",
    "- a bunch of space for global/static initialized data (named the **data** segment)\n",
    "- a bunch of space for global/static uninitalized data (named the **bss** segment)\n",
    "- a bunch of empty workspace for intermediate calculations (called the **stack**)\n",
    "- a bunch of empty space to place stuff we don't know the size of before it's needed (called the **heap**)"
   ]
  },
  {
   "cell_type": "markdown",
   "metadata": {
    "slideshow": {
     "slide_type": "subslide"
    }
   },
   "source": [
    "## Native binary format\n",
    "![Native binary format](native-binary_program.png)"
   ]
  },
  {
   "cell_type": "markdown",
   "metadata": {
    "slideshow": {
     "slide_type": "subslide"
    }
   },
   "source": [
    "## Compiler\n",
    "- https://en.wikipedia.org/wiki/Data_segment#Program_memory"
   ]
  },
  {
   "cell_type": "markdown",
   "metadata": {
    "slideshow": {
     "slide_type": "subslide"
    }
   },
   "source": [
    "- When a native-binary program is launched, the **operating system** loads it into a memory and it becomes a **process**\n",
    "- The components are the **principal parts** of a process"
   ]
  },
  {
   "cell_type": "markdown",
   "metadata": {
    "slideshow": {
     "slide_type": "subslide"
    }
   },
   "source": [
    "- The program runs by the CPU keeping a **counter** (IP register on x86) that points somewhere into the **text**, the instruction there tells it what to do to the **data** areas or instruction **counter**\n",
    "- Afterwards it adjusts the instruction counter (usually just **increment** it), and **repeats** with the next instruction it points at"
   ]
  },
  {
   "cell_type": "markdown",
   "metadata": {
    "slideshow": {
     "slide_type": "subslide"
    }
   },
   "source": [
    "## Interpreter\n",
    "- **Programs** can act **as processors** too\n",
    "- An **interpreter** is a software-made processor\n",
    "- It reads a bunch of general program instructions and make them happen one by one while they are being read"
   ]
  },
  {
   "cell_type": "markdown",
   "metadata": {
    "slideshow": {
     "slide_type": "subslide"
    }
   },
   "source": [
    "## Virtual machine / emulator\n",
    "Depending on how abstract and what sort of instructions an interpreter reads, people may also call it things like **virtual machine** or **emulator**"
   ]
  },
  {
   "cell_type": "markdown",
   "metadata": {
    "slideshow": {
     "slide_type": "subslide"
    }
   },
   "source": [
    "## Compiler (in a broad sense)\n",
    "- To further confuse the terminology, with things like Java there's a **compiler** turning Java programs into simpler instructions **bytecode**\n",
    "- It stores them in a file read by an interpreter (**virtual machine**)\n",
    "- Adding the whole circus once more, just starting from **one level up** the abstraction ladder"
   ]
  },
  {
   "cell_type": "markdown",
   "metadata": {
    "slideshow": {
     "slide_type": "subslide"
    }
   },
   "source": [
    "## JIT\n",
    "* A **JIT** (Just-In-Time) compiler runs **after the program has started**\n",
    "* It compiles the code (usually bytecode or some kind of VM instructions) on the fly into a form that's usually faster, typically the host CPU's **native instruction set**\n",
    "* A JIT has access to **dynamic runtime information** whereas a standard compiler doesn't\n",
    "* Thus, it can make better **optimizations** like inlining functions that are used frequently"
   ]
  },
  {
   "cell_type": "markdown",
   "metadata": {
    "slideshow": {
     "slide_type": "slide"
    }
   },
   "source": [
    "## Static vs. dynamic typing\n",
    "based on (and further reading mentioned there):\n",
    "* http://stackoverflow.com/questions/1517582/what-is-the-difference-between-statically-typed-and-dynamically-typed-languages\n",
    "* https://pchiusano.github.io/2016-09-15/static-vs-dynamic.html\n",
    "* http://softwareengineering.stackexchange.com/questions/122205/what-is-the-supposed-productivity-gain-of-dynamic-typing"
   ]
  },
  {
   "cell_type": "markdown",
   "metadata": {
    "slideshow": {
     "slide_type": "subslide"
    }
   },
   "source": [
    "## Static vs. dynamic typing\n",
    "* https://thesocietea.org/2015/11/programming-concepts-static-vs-dynamic-type-checking/\n",
    "* https://blog.jooq.org/2014/12/11/the-inconvenient-truth-about-dynamic-vs-static-typing/"
   ]
  },
  {
   "cell_type": "markdown",
   "metadata": {
    "slideshow": {
     "slide_type": "slide"
    }
   },
   "source": [
    "## Variable typing\n",
    "* A **type system** is a collection of rules that assign a property called **type** to various constructs in a computer program\n",
    "* Types are assigned to variables, expressions, functions, modules...\n",
    "* Defines a set of **rules** and **protocols** behind how a piece of data is supposed to **behave**\n",
    "* Reduces the number of **bugs** by **verifying** that data is represented properly throughout a program\n"
   ]
  },
  {
   "cell_type": "markdown",
   "metadata": {
    "slideshow": {
     "slide_type": "subslide"
    }
   },
   "source": [
    "## Types of types\n",
    "* **Primitive** types – common types such as **integers, booleans, floats**, and **characters**\n",
    "* **Composite** types – composed of more than one primitive type, e.g. an **array** or **record** - all composite types are considered **data structures**\n",
    "* **Abstract** types – types that do not have a specific implementation (and thus can be represented via multiple types), such as a **hash**, **set**, **queue**, and **stack**\n",
    "* **Other** types – such as **pointers** (a type which holds as its value a reference to a different memory location) and **functions**\n"
   ]
  },
  {
   "cell_type": "code",
   "execution_count": 2,
   "metadata": {
    "slideshow": {
     "slide_type": "subslide"
    }
   },
   "outputs": [
    {
     "name": "stdout",
     "output_type": "stream",
     "text": [
      "2\n"
     ]
    }
   ],
   "source": [
    "def two_times(numb):\n",
    "    return numb * 2\n",
    "print(two_times(1))"
   ]
  },
  {
   "cell_type": "code",
   "execution_count": 3,
   "metadata": {
    "slideshow": {
     "slide_type": "subslide"
    }
   },
   "outputs": [
    {
     "name": "stdout",
     "output_type": "stream",
     "text": [
      "22\n"
     ]
    }
   ],
   "source": [
    "def two_times(numb):\n",
    "    return numb * 2\n",
    "print(two_times('2'))"
   ]
  },
  {
   "cell_type": "markdown",
   "metadata": {
    "slideshow": {
     "slide_type": "subslide"
    }
   },
   "source": [
    "## Type checking\n",
    "* The process of **verifying** and **enforcing** the constraints of types, i.e. that the types make logical sense in the program so that the program can be executed successfully\n",
    "* It can occur either at **compile time** or at **runtime**"
   ]
  },
  {
   "cell_type": "markdown",
   "metadata": {
    "slideshow": {
     "slide_type": "subslide"
    }
   },
   "source": [
    "# Type-safe\n",
    "* Type checking is all about ensuring that the program is **type-safe**, meaning that the possibility of **type errors** is kept to a minimum\n",
    "* A **type error** is an erroneous program behavior in which an **operation** occurs (or tries to occur) on a particular **data type** that it’s **not meant** to occur on\n",
    "* This could be a situation where an operation is performed on an integer with the intent that it is a float, or even something such as adding a string and an integer together"
   ]
  },
  {
   "cell_type": "markdown",
   "metadata": {
    "slideshow": {
     "slide_type": "subslide"
    }
   },
   "source": [
    "## Static vs. dynamic typing\n",
    "\n",
    "* **Static** typing means that a reference value is manifestly (which is not necessarily the same as at compile time) constrained with respect to the type of the value it can denote\n",
    "* The language implementation, whether it is a compiler or an interpreter, both enforces and uses these constraints as much as possible\n",
    "* A language is **dynamically** typed if the type is associated with run-time **values**, and not named variables"
   ]
  },
  {
   "cell_type": "code",
   "execution_count": null,
   "metadata": {
    "slideshow": {
     "slide_type": "subslide"
    }
   },
   "outputs": [],
   "source": [
    "// C++ (static typing)\n",
    "double obj = 3.14;\n",
    "obj += PI;  // obj = 2*PI;\n",
    "obj = \"Hello\";  // ERROR: cannot convert 'const char[6]' to 'double'"
   ]
  },
  {
   "cell_type": "code",
   "execution_count": null,
   "metadata": {
    "slideshow": {
     "slide_type": "subslide"
    }
   },
   "outputs": [],
   "source": [
    "# Python (dynamic typing)\n",
    "obj = 3.14\n",
    "obj += PI  # obj = 2*PI\n",
    "obj = \"Hello\"\n",
    "obj = [\"I\", \"am\", \"a\", \"list\", \"of\", \"strings\"]"
   ]
  },
  {
   "cell_type": "code",
   "execution_count": null,
   "metadata": {
    "slideshow": {
     "slide_type": "subslide"
    }
   },
   "outputs": [],
   "source": [
    "// C++11 (type inference)\n",
    "std::vector<int> numbers;\n",
    "// std::vector<int>::iterator iter = numbers.iterator();\n",
    "auto iter = numbers.iterator();"
   ]
  },
  {
   "cell_type": "markdown",
   "metadata": {
    "slideshow": {
     "slide_type": "subslide"
    }
   },
   "source": [
    "## The golden mean\n",
    "* Dart, C++11 - `auto`, C\\# - `var`\n",
    "* type hints in Python 3.5+ - can be statically checked (e.g., by mypy)"
   ]
  },
  {
   "cell_type": "code",
   "execution_count": 8,
   "metadata": {
    "slideshow": {
     "slide_type": "fragment"
    }
   },
   "outputs": [],
   "source": [
    "from typing import List\n",
    "Vector = List[float]\n",
    "\n",
    "def scale(scalar: float, vector: Vector) -> Vector:\n",
    "    return [scalar * num for num in vector]\n",
    "\n",
    "# typechecks; a list of floats qualifies as a Vector.\n",
    "new_vector = scale(2.0, [1.0, -4.2, 5.4])"
   ]
  },
  {
   "cell_type": "markdown",
   "metadata": {
    "slideshow": {
     "slide_type": "subslide"
    }
   },
   "source": [
    "## Explicitly vs. implicitly typed\n",
    "* Many widely-used “**industry**” languages such as Java, C, or C++ are **explicitly** typed\n",
    "* In other words, they require **lots of type declarations**\n",
    "* In the world of less explicitly typed languages, where these declarations are optional, the declarations are often called **type annotations**"
   ]
  },
  {
   "cell_type": "markdown",
   "metadata": {
    "slideshow": {
     "slide_type": "subslide"
    }
   },
   "source": [
    "## Explicitly typed vs. type inference\n",
    "* The first **statically typed** languages were **explicitly typed** by necessity\n",
    "* **Type inference** algorithms employ techniques for looking at source code with **no type declarations** at all, and deciding what the types of its variables are\n",
    "* Type inference is typical for languages such as **OCaml, Haskell, Scala**\n"
   ]
  },
  {
   "cell_type": "markdown",
   "metadata": {
    "slideshow": {
     "slide_type": "subslide"
    }
   },
   "source": [
    "## Advantages of static typing\n",
    "* Better **design** - being forced to think about the types of values in your software up front **can push you** towards **cleaner**, more **logical** solutions. (**can** - it's still possible to design really bad code...)\n",
    "* Better **compile time checking** - static typing can enable more errors to be caught at compile time - arguably the best thing about statically typed languages overall\n",
    "* **Auto-completion** - static typing can also give more information to the IDE so that auto-completion of code or documentation lookup is more effective"
   ]
  },
  {
   "cell_type": "markdown",
   "metadata": {
    "slideshow": {
     "slide_type": "subslide"
    }
   },
   "source": [
    "## Advantages of static typing\n",
    "* **Discourages hacks** - you have to keep type **discipline** in your code, which is likely to be an advantage for long term **maintainability**\n",
    "* **Type inference** can get you many of the conciseness benefits of dynamic languages while still maintaining type discipline"
   ]
  },
  {
   "cell_type": "markdown",
   "metadata": {
    "slideshow": {
     "slide_type": "subslide"
    }
   },
   "source": [
    "## Advantages of dynamic typing\n",
    "* More **concise** - A lot of extraneous **boilerplate code can be removed** if everything is dynamically typed - type declarations, typecasting logic etc. All other things being equal, **shorter code** is marginally quicker to write, but more importantly it can be **quicker to read and maintain** (since you don't need to wade through many pages of code to get a grip on what is happening)\n",
    "* Easier to **\"hack\"** techniques such as **duck typing** and **monkey patching** can get you results very quickly (although might confuse you later on...)"
   ]
  },
  {
   "cell_type": "markdown",
   "metadata": {
    "slideshow": {
     "slide_type": "subslide"
    }
   },
   "source": [
    "## Advantages of dynamic typing\n",
    "* More **interactive** - dynamic typing is arguably more suitable for **interactive**, **REPL** (Read-Eval-Print Loop)-like programming for **rapid prototyping**, **real-time debugging** of running program instances or even **live coding**\n",
    "* **Test cases** can catch the **runtime errors** - assuming you are using **TDD** (Test-Driven Development) or at the very least have a good **test suite**, this should pick up any typing issues in your code\n",
    "\n"
   ]
  },
  {
   "cell_type": "markdown",
   "metadata": {
    "slideshow": {
     "slide_type": "subslide"
    }
   },
   "source": [
    "# Strongly vs. weakly typed\n",
    "* A **strongly-typed** language - variables are bound to specific data types, and will result in type errors if types do not match up as expected in the expression – regardless of when type checking occurs\n",
    "* High degrees of type safety\n",
    "* A strongly-typed language would result in an explicit type error which ends the program’s execution, thus forcing the developer to fix the bug in"
   ]
  },
  {
   "cell_type": "markdown",
   "metadata": {
    "slideshow": {
     "slide_type": "subslide"
    }
   },
   "source": [
    "![Weakly typed JavaScript](weakly_typed_javascript.jpg)"
   ]
  },
  {
   "cell_type": "code",
   "execution_count": 3,
   "metadata": {
    "slideshow": {
     "slide_type": "subslide"
    }
   },
   "outputs": [
    {
     "ename": "TypeError",
     "evalue": "unsupported operand type(s) for +: 'int' and 'str'",
     "output_type": "error",
     "traceback": [
      "\u001b[0;31m---------------------------------------------------------------------------\u001b[0m",
      "\u001b[0;31mTypeError\u001b[0m                                 Traceback (most recent call last)",
      "\u001b[0;32m<ipython-input-3-ffb3ef0de8ca>\u001b[0m in \u001b[0;36m<module>\u001b[0;34m()\u001b[0m\n\u001b[0;32m----> 1\u001b[0;31m \u001b[0ma\u001b[0m \u001b[0;34m=\u001b[0m \u001b[0;36m1\u001b[0m \u001b[0;34m+\u001b[0m \u001b[0;34m'2'\u001b[0m\u001b[0;34m\u001b[0m\u001b[0m\n\u001b[0m",
      "\u001b[0;31mTypeError\u001b[0m: unsupported operand type(s) for +: 'int' and 'str'"
     ]
    }
   ],
   "source": [
    "a = 1 + '2'"
   ]
  },
  {
   "cell_type": "markdown",
   "metadata": {
    "slideshow": {
     "slide_type": "subslide"
    }
   },
   "source": [
    "# Weakly typed\n",
    "* A **weakly-typed** language - variables can be implicitly coerced to unrelated types\n",
    "* PHP, Perl, Rexx, C"
   ]
  },
  {
   "cell_type": "code",
   "execution_count": null,
   "metadata": {
    "slideshow": {
     "slide_type": "fragment"
    }
   },
   "outputs": [],
   "source": [
    "// PHP\n",
    "$foo = \"x\";\n",
    "$foo = $foo + 2; // not an error\n",
    "echo $foo;       // 2"
   ]
  },
  {
   "cell_type": "code",
   "execution_count": null,
   "metadata": {
    "slideshow": {
     "slide_type": "subslide"
    }
   },
   "outputs": [],
   "source": [
    "a  = 9\n",
    "b = \"9\"\n",
    "c = concatenate(a, b)  // produces \"99\"\n",
    "d = add(a, b)          // produces 18"
   ]
  },
  {
   "cell_type": "code",
   "execution_count": 10,
   "metadata": {
    "slideshow": {
     "slide_type": "subslide"
    }
   },
   "outputs": [
    {
     "ename": "TypeError",
     "evalue": "unsupported operand type(s) for /: 'str' and 'int'",
     "output_type": "error",
     "traceback": [
      "\u001b[1;31m---------------------------------------------------------------------------\u001b[0m",
      "\u001b[1;31mTypeError\u001b[0m                                 Traceback (most recent call last)",
      "\u001b[1;32m<ipython-input-10-2f6e0a5abb29>\u001b[0m in \u001b[0;36m<module>\u001b[1;34m\u001b[0m\n\u001b[0;32m      1\u001b[0m \u001b[1;31m# Python (strong typing)\u001b[0m\u001b[1;33m\u001b[0m\u001b[1;33m\u001b[0m\u001b[1;33m\u001b[0m\u001b[0m\n\u001b[0;32m      2\u001b[0m \u001b[0mnumber\u001b[0m \u001b[1;33m=\u001b[0m \u001b[1;34m'13'\u001b[0m\u001b[1;33m\u001b[0m\u001b[1;33m\u001b[0m\u001b[0m\n\u001b[1;32m----> 3\u001b[1;33m \u001b[0mresult\u001b[0m \u001b[1;33m=\u001b[0m \u001b[0mnumber\u001b[0m \u001b[1;33m/\u001b[0m \u001b[1;36m2\u001b[0m  \u001b[1;31m# TypeError: unsupported operand types for /\u001b[0m\u001b[1;33m\u001b[0m\u001b[1;33m\u001b[0m\u001b[0m\n\u001b[0m",
      "\u001b[1;31mTypeError\u001b[0m: unsupported operand type(s) for /: 'str' and 'int'"
     ]
    }
   ],
   "source": [
    "# Python (strong typing)\n",
    "number = '13'\n",
    "result = number / 2  # TypeError: unsupported operand types for /"
   ]
  },
  {
   "cell_type": "code",
   "execution_count": null,
   "metadata": {
    "slideshow": {
     "slide_type": "subslide"
    }
   },
   "outputs": [],
   "source": [
    "# Perl, PHP (weak typing)\n",
    "$number = \"13\";\n",
    "$result = $number / 2;  # OK: implicit conversion \"13\" -> 13"
   ]
  },
  {
   "cell_type": "markdown",
   "metadata": {
    "slideshow": {
     "slide_type": "subslide"
    }
   },
   "source": [
    "## Early vs. late binding\n",
    "* https://en.wikibooks.org/wiki/Introduction_to_Programming_Languages/Binding\n",
    "* https://thesocietea.org/2015/11/programming-concepts-static-vs-dynamic-type-checking/\n",
    "* http://stackoverflow.com/questions/10580/what-is-the-difference-between-early-and-late-binding\n",
    "* http://softwareengineering.stackexchange.com/questions/200115/what-is-early-and-late-binding"
   ]
  },
  {
   "cell_type": "markdown",
   "metadata": {
    "slideshow": {
     "slide_type": "subslide"
    }
   },
   "source": [
    "## Early vs. late binding\n",
    "* For **types**\n",
    "  * **Early** binding - type is known before the variable is exercised during run-time, usually through a static, declarative means\n",
    "  * **Late** binding - type is unknown until the variable is exercised during run-time; dynamically typed languages call this an underlying feature, but many statically typed languages have some method of achieving late binding\n",
    "  * Implemented often using (special) dynamic types, introspection/reflection, flags and compiler options"
   ]
  },
  {
   "cell_type": "markdown",
   "metadata": {
    "slideshow": {
     "slide_type": "subslide"
    }
   },
   "source": [
    "## Early vs. late binding\n",
    "* For **functions**\n",
    "  * **Static dispatch** - known, specific function or subroutine at compile time; it is unambiguous and matched by the signature\n",
    "  * Implemented as **static functions**; no method can have the same signature"
   ]
  },
  {
   "cell_type": "markdown",
   "metadata": {
    "slideshow": {
     "slide_type": "subslide"
    }
   },
   "source": [
    "## Early vs. late binding\n",
    "* For **functions**\n",
    "  * **Dynamic dispatch** - not a specific function or subroutine at compile time; determined by the context during execution\n",
    "  * Implemented as **virtual** or **abstract** functions; other clues include overridden, hidden, or shadowed methods\n",
    "  * Whether or not method overloading involves dynamic dispatch is **language-specific**, for example, in Java, overloaded methods are statically dispatched"
   ]
  },
  {
   "cell_type": "markdown",
   "metadata": {
    "slideshow": {
     "slide_type": "subslide"
    }
   },
   "source": [
    "## Lazy vs. eager evaluation (loading)\n",
    "* binding for **values**\n",
    "  * **Lazy** loading is an object initialization strategy that **defers value assignment until needed**\n",
    "  * Allows an object to be in an essentially valid but knowingly **incomplete state** and **waiting** until the data is needed before loading it\n",
    "  * Often found particularly useful for loading **large datasets** or waiting on **external resources**"
   ]
  },
  {
   "cell_type": "markdown",
   "metadata": {
    "slideshow": {
     "slide_type": "subslide"
    }
   },
   "source": [
    "## Lazy loading\n",
    "* Implemented often by purposefully **not loading** a collection or list into a composite object **during** the constructor or **initialization** calls\n",
    "* Until some downstream **caller asks** to see the contents of that collection\n",
    "* Variations include loading **meta information** about the collection (like size or keys), but **omitting the actual data**"
   ]
  },
  {
   "cell_type": "code",
   "execution_count": 55,
   "metadata": {
    "slideshow": {
     "slide_type": "subslide"
    }
   },
   "outputs": [
    {
     "name": "stdout",
     "output_type": "stream",
     "text": [
      "<class 'int'>:1\n",
      "I am running!\n",
      "<class 'int'>:1\n",
      "I am running!\n",
      "<class 'int'>:2\n"
     ]
    }
   ],
   "source": [
    "def f():\n",
    " a = b = 1\n",
    " while True:\n",
    "  yield a\n",
    "  a,b = b,a+b\n",
    "  print(\"I am running!\")\n",
    "lets_see_type_and_value = lambda x: print(\"{0}:{1}\".format(str(type(x)),str(x)))\n",
    "test=f()\n",
    "for _ in range(3):\n",
    "    lets_see_type_and_value(next(test))"
   ]
  },
  {
   "cell_type": "code",
   "execution_count": 54,
   "metadata": {
    "slideshow": {
     "slide_type": "subslide"
    }
   },
   "outputs": [
    {
     "name": "stdout",
     "output_type": "stream",
     "text": [
      "1\n",
      "1\n",
      "2\n",
      "3\n",
      "5\n",
      "8\n",
      "13\n",
      "21\n",
      "34\n",
      "55\n",
      "89\n"
     ]
    }
   ],
   "source": [
    "for i in f():\n",
    "  if i > 100:\n",
    "    break\n",
    "  else:\n",
    "    print(i)"
   ]
  },
  {
   "cell_type": "code",
   "execution_count": 49,
   "metadata": {
    "slideshow": {
     "slide_type": "subslide"
    }
   },
   "outputs": [
    {
     "name": "stdout",
     "output_type": "stream",
     "text": [
      "<class 'generator'>:<generator object increment_and_double_inputs at 0x7f1c40321f68>\n",
      "<class 'NoneType'>:None\n",
      "<class 'int'>:24\n",
      "<class 'NoneType'>:None\n",
      "<class 'int'>:14\n"
     ]
    }
   ],
   "source": [
    "#Advanced yielding\n",
    "def increment_and_double_inputs():\n",
    "    while True:\n",
    "        x = (yield)+2\n",
    "        yield x * 2\n",
    "gen = increment_and_double_inputs()\n",
    "lets_see_type_and_value = lambda x: print(\"{0}:{1}\".format(str(type(x)),str(x)))\n",
    "lets_see_type_and_value(gen)\n",
    "lets_see_type_and_value(next(gen))\n",
    "lets_see_type_and_value(gen.send(10))\n",
    "lets_see_type_and_value(gen.send(5))\n",
    "lets_see_type_and_value(gen.send(5))"
   ]
  },
  {
   "cell_type": "code",
   "execution_count": 12,
   "metadata": {
    "slideshow": {
     "slide_type": "subslide"
    }
   },
   "outputs": [
    {
     "data": {
      "text/plain": [
       "4"
      ]
     },
     "execution_count": 12,
     "metadata": {},
     "output_type": "execute_result"
    }
   ],
   "source": [
    "import itertools\n",
    "even_numbers = itertools.count(2, step=2)\n",
    "next(even_numbers)\n",
    "next(even_numbers)"
   ]
  },
  {
   "cell_type": "code",
   "execution_count": 5,
   "metadata": {
    "slideshow": {
     "slide_type": "subslide"
    }
   },
   "outputs": [
    {
     "name": "stdout",
     "output_type": "stream",
     "text": [
      "2\n",
      "4\n",
      "6\n",
      "8\n",
      "10\n"
     ]
    }
   ],
   "source": [
    "for number in even_numbers:\n",
    "  if number > 10:\n",
    "    break\n",
    "  else:\n",
    "    print(number)"
   ]
  },
  {
   "cell_type": "markdown",
   "metadata": {
    "slideshow": {
     "slide_type": "slide"
    }
   },
   "source": [
    "## Manual vs. automatic memory management\n",
    "* Dynamically **allocate** portions of **memory** to programs at their request, and **free it for reuse** when no longer needed\n",
    "* **Garbage collection** is the automatic recycling of dynamically allocated memory\n",
    "* It is performed by a garbage collector which recycles memory that it **can prove** will never be used again"
   ]
  },
  {
   "cell_type": "markdown",
   "metadata": {
    "slideshow": {
     "slide_type": "slide"
    }
   },
   "source": [
    "## Common features of scripting languages\n",
    "* strong data types (list, hash)\n",
    "* excellent support for text processing (incl. regular expressions)\n",
    "* easy to run external programs and to process their outputs (system programming)\n",
    "* filesystem manipulation\n",
    "* tranferability across platforms\n",
    "* availability of modules extending the basic functionality"
   ]
  },
  {
   "cell_type": "markdown",
   "metadata": {
    "slideshow": {
     "slide_type": "subslide"
    }
   },
   "source": [
    "![Languages - what if](languages_what_if.jpg)"
   ]
  },
  {
   "cell_type": "markdown",
   "metadata": {
    "slideshow": {
     "slide_type": "subslide"
    }
   },
   "source": [
    "## An incomplete list of scripting languages\n",
    "* **PHP** - a server-side scripting language designed primarily for **web development**, PHP code may be embedded into HTML code, or it can be used in combination with various web template systems, web content management systems and web frameworks\n",
    "* **JavaScript** - one of the three core technologies of **World Wide Web** content production, **prototype-based** language with first-class functions, making it a multi-paradigm language, supporting object-oriented, imperative, and functional programming styles; **client**- as well as **server** side"
   ]
  },
  {
   "cell_type": "markdown",
   "metadata": {
    "slideshow": {
     "slide_type": "subslide"
    }
   },
   "source": [
    "## An incomplete list of scripting languages\n",
    "* **Lua** - a **lightweight** language designed primarily for **embedded** systems and clients, written in ANSI C, with a relatively simple C API\n",
    "* **Perl** – \"the Swiss Army chainsaw of scripting languages\" (**flexibility and power**, \"ugliness\"), \"duct tape that holds the Internet together\" (ubiquitous use as a glue language, perceived **inelegance**)"
   ]
  },
  {
   "cell_type": "markdown",
   "metadata": {
    "slideshow": {
     "slide_type": "subslide"
    }
   },
   "source": [
    "## An incomplete list of scripting languages\n",
    "* **command line shells** (bash, zsh...) - command processors calling typically **external programs**, especially from GNU Coreutils\n",
    "* **PowerShell** – a task automation and configuration management framework from **Microsoft**, consisting of a command-line shell and associated scripting language built on the **.NET Framework**"
   ]
  },
  {
   "cell_type": "markdown",
   "metadata": {
    "slideshow": {
     "slide_type": "subslide"
    }
   },
   "source": [
    "## An incomplete list of scripting languages\n",
    "* **Ruby** -  a genuine **object-oriented*, increasing awareness thanks to **Ruby-on-Rails**\n",
    "* **Python** - ideal as the first programming language, extension modules, standard interface language for various data crunching systems\n"
   ]
  },
  {
   "cell_type": "markdown",
   "metadata": {
    "slideshow": {
     "slide_type": "subslide"
    }
   },
   "source": [
    "## Python teaser\n",
    "* default values of function parameters\n",
    "* keyword arguments\n",
    "* variable number of arguments\n",
    "* 'arbitrary' big numbers"
   ]
  },
  {
   "cell_type": "code",
   "execution_count": 13,
   "metadata": {
    "slideshow": {
     "slide_type": "subslide"
    }
   },
   "outputs": [
    {
     "name": "stdout",
     "output_type": "stream",
     "text": [
      "12\n"
     ]
    }
   ],
   "source": [
    "def format_number(number, precision=3, comma=\".\", thousands=\" \"):\n",
    "    # implement the functionality\n",
    "    # ...\n",
    "    return number\n",
    "print(format_number(12,thousands=\".\"))"
   ]
  },
  {
   "cell_type": "markdown",
   "metadata": {
    "slideshow": {
     "slide_type": "subslide"
    }
   },
   "source": [
    "    number = format_number(11.423629, comma=\",\", precision=2)\n",
    "    plot(data, xlabel=\"x\", xlabel=\"f(x)\" xrange=[0, 10], title=\"Demo\")"
   ]
  },
  {
   "cell_type": "code",
   "execution_count": null,
   "metadata": {
    "collapsed": true,
    "slideshow": {
     "slide_type": "subslide"
    }
   },
   "outputs": [],
   "source": [
    "#Python\n",
    "def calculate_sum(*numbers):\n",
    "    summary = 0\n",
    "    for number in numbers:\n",
    "        summary += number\n",
    "    return summary\n",
    "\n",
    "calculate_sum()  # 0\n",
    "calculate_sum(1, 87, 3.14, 1 + 2j, 3)  # 95.14 + 2j"
   ]
  },
  {
   "cell_type": "code",
   "execution_count": 28,
   "metadata": {
    "slideshow": {
     "slide_type": "subslide"
    }
   },
   "outputs": [
    {
     "data": {
      "text/plain": [
       "100000000000000000000000000000000000000000000000000000000000000000000000000000000000000000000000000000"
      ]
     },
     "execution_count": 28,
     "metadata": {},
     "output_type": "execute_result"
    }
   ],
   "source": [
    "# Really REALLY large numbers\n",
    "10**101"
   ]
  },
  {
   "cell_type": "code",
   "execution_count": 47,
   "metadata": {
    "slideshow": {
     "slide_type": "subslide"
    }
   },
   "outputs": [
    {
     "data": {
      "text/plain": [
       "(7+11j)"
      ]
     },
     "execution_count": 47,
     "metadata": {},
     "output_type": "execute_result"
    }
   ],
   "source": [
    "#Complex numbers\n",
    "a = 3+2j\n",
    "b = 4+9j\n",
    "a+b"
   ]
  },
  {
   "cell_type": "markdown",
   "metadata": {
    "slideshow": {
     "slide_type": "subslide"
    }
   },
   "source": [
    "## Short code\n",
    "* reading real numbers from a file"
   ]
  },
  {
   "cell_type": "code",
   "execution_count": null,
   "metadata": {
    "slideshow": {
     "slide_type": "subslide"
    }
   },
   "outputs": [],
   "source": [
    "# %load numbers.txt\n",
    "1.1 9 5.2\n",
    "1.762543e-02\n",
    "0 0.01 0.001\n",
    "9 3 7\n"
   ]
  },
  {
   "cell_type": "code",
   "execution_count": 11,
   "metadata": {
    "slideshow": {
     "slide_type": "subslide"
    }
   },
   "outputs": [
    {
     "name": "stdout",
     "output_type": "stream",
     "text": [
      "1.1\n",
      "9\n",
      "5.2\n",
      "1.762543e-02\n",
      "0\n",
      "0.01\n",
      "0.001\n",
      "9\n",
      "3\n",
      "7\n"
     ]
    }
   ],
   "source": [
    "filename = \"numbers.txt\"\n",
    "with open(filename) as numbfile:\n",
    "  numbers = numbfile.read().split()\n",
    "\n",
    "for number in numbers:\n",
    "    print(number)"
   ]
  },
  {
   "cell_type": "code",
   "execution_count": 58,
   "metadata": {
    "slideshow": {
     "slide_type": "subslide"
    }
   },
   "outputs": [
    {
     "data": {
      "text/plain": [
       "(-3.0, 1.4)"
      ]
     },
     "execution_count": 58,
     "metadata": {},
     "output_type": "execute_result"
    }
   ],
   "source": [
    "# Python\n",
    "import re\n",
    "haystack = \"(-3, 1.4)\"\n",
    "needle = r\"\\(\\s*([^,]+)\\s*,\\s*([^,]+)\\s*\\)\"\n",
    "match = re.search(needle, haystack)\n",
    "re, im = (float(x) for x in match.groups())\n",
    "re,im"
   ]
  },
  {
   "cell_type": "code",
   "execution_count": null,
   "metadata": {
    "slideshow": {
     "slide_type": "subslide"
    }
   },
   "outputs": [],
   "source": [
    "# Perl\n",
    "$haystack = \"(-3, 1.4)\";\n",
    "$needle = /\\(\\s*([^,]+)\\s*,\\s*([^,]+)\\s*\\)/;\n",
    "($re, $im) = $haystack =~ $needle;"
   ]
  },
  {
   "cell_type": "code",
   "execution_count": 57,
   "metadata": {
    "slideshow": {
     "slide_type": "subslide"
    }
   },
   "outputs": [
    {
     "data": {
      "text/plain": [
       "b'{\\n  \"headers\": {\\n    \"Accept-Encoding\": \"identity\", \\n    \"Connection\": \"close\", \\n    \"Host\": \"httpbin.org\", \\n    \"User-Agent\": \"Python-urllib/3.6\"\\n  }\\n}\\n'"
      ]
     },
     "execution_count": 57,
     "metadata": {},
     "output_type": "execute_result"
    }
   ],
   "source": [
    "# Python: download file from URL\n",
    "from urllib.request import urlopen\n",
    "\n",
    "url = \"http://httpbin.org/headers\"\n",
    "with urlopen(url) as response:\n",
    "    content = response.read()\n",
    "content"
   ]
  },
  {
   "cell_type": "code",
   "execution_count": 8,
   "metadata": {
    "slideshow": {
     "slide_type": "subslide"
    }
   },
   "outputs": [
    {
     "name": "stdout",
     "output_type": "stream",
     "text": [
      "[[\"196680;653838;PRACE-4IP;participant;999868144;\\\"VYSOKA SKOLA BANSKA - TECHNICKA UNIVERZITA OSTRAVA\\\";VSB;HES;false;272021;CZ;\\\"17 LISTOPADU 15/2172\\\";\\\"OSTRAVA PORUBA\\\";\\\"70 833\\\";www.vsb.cz;;;;;;;;\"], [\"194816;652816;GasOn;participant;999848744;\\\"CESKE VYSOKE UCENI TECHNICKE V PRAZE\\\";CTU;HES;false;149775;CZ;\\\"ZIKOVA 4\\\";PRAHA;16636;www.cvut.cz;;;;;;;;\"], [\"194883;653514;OSEM-EV;participant;999873091;\\\"VYSOKE UCENI TECHNICKE V BRNE\\\";BUT;HES;false;400000;CZ;\\\"ANTONINSKA 548/1\\\";\\\"BRNO STRED\\\";\\\"601 90\\\";www.vutbr.cz;;;;;;;;\"]]\n"
     ]
    }
   ],
   "source": [
    "# Python: convert CSV to JSON\n",
    "import csv\n",
    "import json\n",
    "\n",
    "with open(\"organizations.csv\") as orgfile:\n",
    "  lines = list(csv.reader(orgfile))\n",
    "  print(json.dumps(lines))"
   ]
  },
  {
   "cell_type": "markdown",
   "metadata": {
    "slideshow": {
     "slide_type": "slide"
    }
   },
   "source": [
    "## When to use scripting languages\n",
    "* the task is to combine existing components\n",
    "* manipulation with strings/text\n",
    "* application code will be changed frequently\n",
    "* CPU-intensive parts are (can be) implemented in a compiled language\n",
    "* one can take advantage of lists and hashes\n",
    "* the application will communicate with web servers"
   ]
  },
  {
   "cell_type": "markdown",
   "metadata": {
    "slideshow": {
     "slide_type": "subslide"
    }
   },
   "source": [
    "## When not to use scripting languages\n",
    "* loops over very large data structures\n",
    "* complex algorithms with complex data structures\n",
    "* enormous data and run time critical\n",
    "* functionality well defined and should not change for a long time\n",
    "* strict type control required (large development teams)"
   ]
  },
  {
   "cell_type": "markdown",
   "metadata": {
    "slideshow": {
     "slide_type": "subslide"
    }
   },
   "source": [
    "## Performance benchmarks\n",
    "* various comparisons on the web\n",
    "* diverse methodology (diverse order)\n",
    "* results generally depend on HW, algorithms, particular constructs employed\n",
    "* language implementation can be alway accelerated (Google V8, PyPy)\n"
   ]
  },
  {
   "cell_type": "markdown",
   "metadata": {
    "slideshow": {
     "slide_type": "subslide"
    }
   },
   "source": [
    "## Performance benchmarks\n",
    "* https://blog.famzah.net/2016/02/09/cpp-vs-python-vs-perl-vs-php-performance-benchmark-2016/\n",
    "* http://benchmarksgame.alioth.debian.org/u64q/python.html\n",
    "* http://karlheinzniebuhr.github.io/en/2015/09/28/C-vs-Go-vs-pypy-vs-Python/\n"
   ]
  },
  {
   "cell_type": "markdown",
   "metadata": {
    "slideshow": {
     "slide_type": "subslide"
    }
   },
   "source": [
    "## Language popularity\n",
    "* https://pypl.github.io/PYPL.html\n",
    "* https://www.tiobe.com/tiobe-index/\n"
   ]
  },
  {
   "cell_type": "markdown",
   "metadata": {
    "slideshow": {
     "slide_type": "subslide"
    }
   },
   "source": [
    "## Installation\n",
    "* see https://www.fit.vutbr.cz/study/courses/ISJ/private/\n",
    "* https://www.anaconda.com/products/individual\n",
    "* jupyter - https://jupyter.org/\n",
    "* https://www.ruby-lang.org/en/documentation/installation/\n",
    "* https://github.com/SciRuby/iruby"
   ]
  },
  {
   "cell_type": "markdown",
   "metadata": {
    "slideshow": {
     "slide_type": "slide"
    }
   },
   "source": [
    "## Next lecture\n",
    "* Regular expressions\n"
   ]
  },
  {
   "cell_type": "markdown",
   "metadata": {
    "slideshow": {
     "slide_type": "notes"
    }
   },
   "source": [
    "## GNU CoreUtils\n",
    "* https://www.gnu.org/software/coreutils/coreutils.html\n",
    "* http://www.grymoire.com/Unix/Sed.html\n",
    "* http://stackabuse.com/zsh-vs-bash/"
   ]
  },
  {
   "cell_type": "markdown",
   "metadata": {
    "slideshow": {
     "slide_type": "subslide"
    }
   },
   "source": [
    "## Regular expressions\n",
    "* https://pycon2016.regex.training/\n",
    "* http://www.informit.com/articles/article.aspx?p=1310965\n",
    "* https://code.tutsplus.com/tutorials/advanced-regular-expression-tips-and-techniques--net-11011\n",
    "* http://www.rexegg.com/regex-lookarounds.html\n",
    "* http://www.regular-expressions.info/lookaround.html"
   ]
  }
 ],
 "metadata": {
  "anaconda-cloud": {},
  "celltoolbar": "Slideshow",
  "kernelspec": {
   "display_name": "Python 3 (ipykernel)",
   "language": "python",
   "name": "python3"
  },
  "language_info": {
   "codemirror_mode": {
    "name": "ipython",
    "version": 3
   },
   "file_extension": ".py",
   "mimetype": "text/x-python",
   "name": "python",
   "nbconvert_exporter": "python",
   "pygments_lexer": "ipython3",
   "version": "3.9.13"
  },
  "livereveal": {
   "controls": true,
   "height": 855,
   "history": true,
   "minScale": 1,
   "progress": true,
   "scroll": false,
   "slideNumber": true,
   "start_slideshow_at": "selected",
   "theme": "simple",
   "transition": "linear",
   "width": 1140
  }
 },
 "nbformat": 4,
 "nbformat_minor": 2
}
